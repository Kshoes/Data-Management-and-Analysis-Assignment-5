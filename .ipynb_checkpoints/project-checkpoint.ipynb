{
 "cells": [
  {
   "cell_type": "markdown",
   "metadata": {},
   "source": [
    "## 1) Write some documentation"
   ]
  },
  {
   "cell_type": "markdown",
   "metadata": {},
   "source": [
    "Description: \n",
    "\n",
    "- Last.fm provides data on music artists and their songs.\n",
    "- [Link to documentation](https://www.last.fm/api/)\n",
    "- Endpoint 1: /2.0/?method=chart.gettopartists&api_key=YOUR_API_KEY&format=json\n",
    "- Endpoint 2: /2.0/?method=chart.gettoptracks&api_key=YOUR_API_KEY&format=json\n",
    "- Appears to return a single JSON response per API call"
   ]
  },
  {
   "cell_type": "markdown",
   "metadata": {},
   "source": [
    "## 2) Retrieve the data, create a DataFrame"
   ]
  },
  {
   "cell_type": "code",
   "execution_count": null,
   "metadata": {},
   "outputs": [],
   "source": [
    "import json\n",
    "import re\n",
    "import requests\n",
    "import pandas as pd\n",
    "from bs4 import BeautifulSoup\n",
    "from pandas.io.json import json_normalize\n",
    "\n",
    "# TODO: fill api_key\n",
    "api_key = 'a01a753b192123a38f894da4bca695fe'\n",
    "\n",
    "base_url = 'http://ws.audioscrobbler.com/2.0/'\n",
    "top_artists_url = f'{base_url}?method=chart.gettopartists&api_key={api_key}&format=json'\n",
    "\n",
    "res = requests.get(top_artists_url)\n",
    "\n",
    "soup = BeautifulSoup(res.content,'lxml')\n",
    "\n",
    "s = json.loads(soup.p.text)\n",
    "\n",
    "# print(json.loads(s))\n",
    "print(s)\n"
   ]
  },
  {
   "cell_type": "code",
   "execution_count": null,
   "metadata": {},
   "outputs": [],
   "source": []
  },
  {
   "cell_type": "code",
   "execution_count": null,
   "metadata": {},
   "outputs": [],
   "source": [
    "artists = s.get('artists')\n",
    "\n",
    "# print(artists)\n",
    "artist = artists.get('artist')\n",
    "# print(artist)\n",
    "\n",
    "\n",
    "df1 = pd.DataFrame.from_dict(artist, orient='columns')\n",
    "\n",
    "df1"
   ]
  },
  {
   "cell_type": "code",
   "execution_count": null,
   "metadata": {},
   "outputs": [],
   "source": [
    "top_tracks_url = f'{base_url}?method=chart.gettoptracks&api_key={api_key}&format=json'\n",
    "\n",
    "res = requests.get(top_tracks_url)\n",
    "\n",
    "soup = BeautifulSoup(res.content,'lxml')\n",
    "\n",
    "s = json.loads(soup.p.text)\n",
    "\n",
    "# print(json.loads(s))\n",
    "print(s)\n",
    "\n",
    "tracks = s.get('tracks')\n",
    "\n",
    "# print(tracks)\n",
    "track = tracks.get('track')\n",
    "# print(track)"
   ]
  },
  {
   "cell_type": "code",
   "execution_count": null,
   "metadata": {},
   "outputs": [],
   "source": [
    "# artist_name = track[0]['artist']['name']\n",
    "# print(artist_name)\n",
    "\n",
    "df2 = pd.DataFrame.from_dict(track, orient='columns')\n",
    "\n",
    "for i, name in enumerate(df2['artist']):\n",
    "    name = track[i]['artist']['name']\n",
    "    df2['artist'][i] = name\n",
    "df2"
   ]
  },
  {
   "cell_type": "markdown",
   "metadata": {},
   "source": [
    "### Motivation\n",
    "\n",
    "I was just curious about current music trends, like who are the most popular artists/what are the most popular songs right now."
   ]
  },
  {
   "cell_type": "markdown",
   "metadata": {},
   "source": [
    "### Methods\n",
    "- groupby\n",
    "- multi index"
   ]
  },
  {
   "cell_type": "code",
   "execution_count": null,
   "metadata": {},
   "outputs": [],
   "source": [
    "grouped = df2['playcount'].groupby(df2['artist']) # counting the number of tracks each artist has in the top 50 tracks\n",
    "grouped.count()"
   ]
  },
  {
   "cell_type": "code",
   "execution_count": null,
   "metadata": {},
   "outputs": [],
   "source": [
    "df3 = df2.set_index(['artist', 'name'])\n",
    "df3"
   ]
  }
 ],
 "metadata": {
  "kernelspec": {
   "display_name": "Python 3",
   "language": "python",
   "name": "python3"
  },
  "language_info": {
   "codemirror_mode": {
    "name": "ipython",
    "version": 3
   },
   "file_extension": ".py",
   "mimetype": "text/x-python",
   "name": "python",
   "nbconvert_exporter": "python",
   "pygments_lexer": "ipython3",
   "version": "3.7.4-final"
  }
 },
 "nbformat": 4,
 "nbformat_minor": 4
}