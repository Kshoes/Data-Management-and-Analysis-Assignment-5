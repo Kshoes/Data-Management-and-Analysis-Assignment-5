{
 "cells": [
  {
   "cell_type": "markdown",
   "metadata": {},
   "source": [
    "## 1) Read the 2020 course schedule into a DataFrame\n"
   ]
  },
  {
   "cell_type": "code",
   "execution_count": 1,
   "metadata": {},
   "outputs": [],
   "source": [
    "import re\n",
    "import pandas as pd\n",
    "# import requests\n",
    "from bs4 import BeautifulSoup\n",
    "\n",
    "f = open('Sp20_CS_sched.html')\n",
    "contents = f.read()\n",
    "# print(contents)\n",
    "f.close()\n",
    "\n",
    "soup = BeautifulSoup(contents, 'lxml')\n",
    "# print(soup.prettify)\n",
    "dom = BeautifulSoup(contents, 'html.parser')\n",
    "\n",
    "\n",
    "# print(dom.find('ul', {'class':'schedule-listing'}))\n",
    "\n",
    "class_list = dom.find('ul', {'class':'schedule-listing'})\n",
    "# print(class_list.findChild().text)\n",
    "class_list = class_list.find_all('li', {'class':'row'}, recursive='False')\n",
    "\n",
    "# print(class_list[0].find_all('span')[3].text)\n",
    "# print(class_list[1])\n"
   ]
  },
  {
   "cell_type": "code",
   "execution_count": 2,
   "metadata": {},
   "outputs": [
    {
     "name": "stdout",
     "output_type": "stream",
     "text": "['CSCI-GA.1144-\\u200b001', 'PAC II*', 'Mohamed Zahran', 'T 6:00-8:30PM']\n['CSCI-GA.1144-\\u200b002', 'PAC II Recitation', 'Rutviben Malaviya', 'R 7:10-8:00PM']\n['CSCI-GA.1170-\\u200b001', 'Fundamental Algorithms', 'Chee Yap', 'M 5:10-7:00PM']\n['CSCI-GA.1170-\\u200b002', 'Fundamental Algorithms Recitation', 'Abhinav Tamaskar', 'W 5:10-6:00PM']\n['CSCI-GA.1170-\\u200b003', 'Fundamental Algorithms', 'Yevgeniy Dodis', 'T 7:10-9:00PM']\n['CSCI-GA.1170-\\u200b004', 'Fundamental Algorithms Recitation', 'Harish Karthikeyan', 'R 8:10-9:00PM']\n['CSCI-GA.1180-\\u200b001', 'Mathematical Techniques For CS Applications', 'Remi Imbach', 'T 5:10-7:00PM']\n['CSCI-GA.2110-\\u200b001', 'Programming Languages', 'Cory Plock', 'M 5:10-7:00PM']\n['CSCI-GA.2110-\\u200b002', 'Programming Languages Recitation', 'Yusen Su', 'R 7:10-8:00PM']\n['CSCI-GA.2130-\\u200b001', 'Compiler Construction', 'Alexander Alekseyev', 'M 7:10-9:00PM']\n['CSCI-GA.2250-\\u200b001', 'Operating Systems', 'Hubertus Franke', 'M 7:10-9:00PM']\n['CSCI-GA.2250-\\u200b002', 'Operating Systems', 'Shameem Akhter', 'W 7:10-9:00PM']\n['CSCI-GA.2262-\\u200b001', 'Data Communications and Networks', 'Muhammed Fatih Bulut', 'R 5:10-7:00PM']\n['CSCI-GA.2421-\\u200b001', 'Numerical Methods II', 'Jonathan Goodman', 'T 5:10-7:00PM']\n['CSCI-GA.2433-\\u200b001', 'Database Systems', 'Zvi Kedem', 'W 5:10-7:00PM']\n['CSCI-GA.2440-\\u200b001', 'Software Engineering', 'Jean-Claude Franchitti', 'M 7:10-9:00PM']\n['CSCI-GA.2520-\\u200b001', 'Bioinformatics and Genomes', 'Richard Bonneau                              Brian Parker', 'F 1:00-3:45PM']\n['CSCI-GA.2560-\\u200b001', 'Artificial Intelligence', 'Ernest Davis', 'M 5:10-7:00PM']\n['CSCI-GA.2572-\\u200b001', 'Deep Learning', 'Yann LeCun', 'M 4:55-6:35PM']\n['CSCI-GA.2572-\\u200b002', 'Deep Learning Lab', 'Alfredo Canziani', 'T 7:10-8:00PM']\n['CSCI-GA.2590-\\u200b001', 'Natural Language Processing', 'Ralph Grishman', 'T 5:10-7:00PM']\n['CSCI-GA.2620-\\u200b001', 'Networks and Mobile Systems', 'Anirudh Sivaraman', 'R 7:10-9:00PM']\n['CSCI-GA.2820-\\u200b001', 'DevOps and Agile Methodologies', 'John Rofrano', 'T 5:10-7:00PM']\n['CSCI-GA.2820-\\u200b002', 'DevOps and Agile Methodologies Lab', 'John Rofrano', 'T 7:10-8:00PM']\n['CSCI-GA.2840-\\u200b001', 'Entrepreneurship Capstone', 'Evan Korth', 'T 10:15-12:15PM']\n['CSCI-GA.2840-\\u200b002', 'Entrepreneurship Capstone Lab', 'Pedro Torres-Mackie', 'T 12:25-1:15PM']\n['CSCI-GA.2945-\\u200b001', 'Advanced Topics in Numerical Analysis:  Convex and Nonsmooth Optimization', 'Michael Overton', 'M 5:10-7:00PM']\n['CSCI-GA.2945-\\u200b002', 'Advanced Topics in Numerical Analysis:  High Performance Computing', 'Benjamin Peherstorfer', 'M 1:25-3:15PM']\n['CSCI-GA.3033-\\u200b001', 'Special Topics:                                                                                         Big Data Science', 'Anasse Bari', 'W 5:10-7:00PM']\n['CSCI-GA.3033-\\u200b002', 'Special Topics:                                                                                         Social Networks', 'Bhubaneswar Mishra', 'R 5:10-7:00PM']\n['CSCI-GA.3033-\\u200b003', 'Special Topics:                                                                                         Production Quality Software', 'Michael Schidlowsky', 'W 5:10-7:00PM']\n['CSCI-GA.3033-\\u200b005', 'Special Topics:                                                                                         Big Data Application Development', 'Suzanne McIntosh', 'R 7:10-9:00PM']\n['CSCI-GA.3033-\\u200b010', 'Special Topics:                                                                                         Cloud Computing', 'Jean-Claude Franchitti', 'R 7:10-9:00PM']\n['CSCI-GA.3033-\\u200b016', 'Special Topics:                                                                                         Multicore Processors: Architecture and Programming', 'Mohamed Zahran', 'W 5:10-7:00PM']\n['CSCI-GA.3033-\\u200b019', 'Special Topics:                                                                                         Cryptocurrencies and Decentralized Ledgers', 'Joseph Bonneau', 'R 5:10-7:00PM']\n['CSCI-GA.3033-\\u200b020', 'Special Topics:                                                                                         Mathematics of Deep Learning', 'Joan Bruna', 'R 5:10-7:00PM']\n['CSCI-GA.3033-\\u200b023', 'Special Topics:                                                                                         High Performance Machine Learning', 'Ulrich Finkler                                                                                                                                               Wei Zhang', 'W 7:10-9:00PM']\n['CSCI-GA.3033-\\u200b024', 'Special Topics:                                                                                         Big Data and ML Systems', 'Lakshminarayanan Subramanian', 'W 7:10-9:00PM']\n['CSCI-GA.3033-\\u200b025', 'Special Topics: Cloud and Machine Learning', 'Seetharami Seelam                                                                                                                                               I-Hsin Chung', 'R 5:10-7:00PM']\n['CSCI-GA.3033-\\u200b026', 'Special Topics:                                                                                         Practical Computer Security', 'Kevin Chen', 'W 7:10-9:00PM']\n['CSCI-GA.3033-\\u200b027', 'Special Topics:                                                                                         Blockchain and Its Applications', 'Richard Hull', 'T 5:10-7:00PM']\n['CSCI-GA.3033-\\u200b028', 'Special Topics:                                                                                         Hardness of Approximation: PCP Theorem to 2-to-2 Games Theorem', 'Subhash Khot', 'M 7:10-9:00PM']\n['CSCI-GA.3812-\\u200b001', 'Information Technology Projects *', 'Evan Korth', 'W 6:00-9:00PM']\n['CSCI-GA.3813-\\u200b001', 'Adv Lab MS *', 'STAFF', ' -']\n['CSCI-GA.3813-\\u200b002', 'Adv Lab MS *', 'STAFF', ' -']\n['CSCI-GA.3813-\\u200b003', 'Adv Lab MS *', 'STAFF', ' -']\n['CSCI-GA.3813-\\u200b004', 'Adv Lab MS *', 'STAFF', ' -']\n['CSCI-GA.3813-\\u200b005', 'Adv Lab PhD **', 'STAFF', ' -']\n['CSCI-GA.3813-\\u200b006', 'Adv Lab PhD **', 'STAFF', ' -']\n['CSCI-GA.3813-\\u200b007', 'Adv Lab PhD **', 'STAFF', ' -']\n['CSCI-GA.3813-\\u200b008', 'Adv Lab PhD **', 'STAFF', ' -']\n['CSCI-GA.3840-\\u200b001', \"Master's Thesis Research *\", 'STAFF', ' -']\n['', 'PhD Seminar: Cryptography **', 'Yevgeniy Dodis', 'T 12:30-3:15PM']\n['CSCI-GA.3850-\\u200b004', 'PhD Seminar: Formal Methods**', 'Thomas Wies', 'R 11:00-12:30PM']\n['CSCI-GA.3850-\\u200b007', 'PhD Seminar: Applications of Contextual Integrity**', 'Yan Shvartzshnaider', 'W 3:30-4:45PM']\n['CSCI-GA.3860-\\u200b001', 'PhD Thesis Research **', 'STAFF', ' -']\n['CSCI-GA.3870-\\u200b001', 'Internship In Computer Science MS*', 'STAFF', ' -']\n['CSCI-GA.3870-\\u200b002', 'Internship in Computer Science PhD*', 'STAFF', ' -']\n['MAINT-GA.4747-\\u200b001', 'Maintenance of Matriculation (MS Students)', 'STAFF', ' -']\n['MAINT-GA.4747-\\u200b004', 'Maintenance of Matriculation (non-supported PhD students)', 'STAFF', ' -']\n['CSCI-UA.0002-\\u200b001', 'Intro To Computer Programming (No Prior Experience)', 'Dakota Hernandez', 'MW 3:30-4:45PM']\n['CSCI-UA.0002-\\u200b002', 'Intro To Computer Programming (No Prior Experience)', 'Craig Kapp', 'MW 9:30-10:45AM']\n['CSCI-UA.0002-\\u200b003', 'Intro To Computer Programming (No Prior Experience)', 'Adam Meyers', 'TR 8:00-9:15AM']\n['CSCI-UA.0002-\\u200b004', 'Intro To Computer Programming (No Prior Experience)', 'Craig Kapp', 'T 5:00-7:30PM']\n['CSCI-UA.0002-\\u200b005', 'Intro To Computer Programming (No Prior Experience)', 'Shaheer Mohammed Haroon', 'TR 9:30-10:45AM']\n['CSCI-UA.0002-\\u200b006', 'Intro To Computer Programming (No Prior Experience)', 'David Gochfeld', 'MW 9:30-10:45AM']\n['CSCI-UA.0002-\\u200b007', 'Intro To Computer Programming (No Prior Experience)', 'CANCELLED', ' -']\n['CSCI-UA.0002-\\u200b008', 'Intro To Computer Programming (No Prior Experience)', 'Adam Meyers', 'MW 8:00-9:15AM']\n['CSCI-UA.0002-\\u200b009', 'Intro To Computer Programming (No Prior Experience)', 'Michell Cardona', 'TR 8:00-9:15AM']\n['CSCI-UA.0002-\\u200b010', 'Intro To Computer Programming (No Prior Experience)', 'Saadia Lgarch', 'TR 3:30-4:45PM']\n['CSCI-UA.0002-\\u200b011', 'Intro To Computer Programming (No Prior Experience)', \"Na'im Tyson\", 'W 6:20-8:50PM']\n['CSCI-UA.0002-\\u200b012', 'Intro To Computer Programming (No Prior Experience)', 'Deena Engel', 'MW 2:00-3:15PM']\n['CSCI-UA.0002-\\u200b013', 'Intro To Computer Programming (No Prior Experience)', 'Deena Engel', 'TR 9:30-10:45AM']\n['CSCI-UA.0003-\\u200b001', 'Intro to Computer Programming (Limited Prior Experience)', 'CANCELLED', ' -']\n['CSCI-UA.0003-\\u200b002', 'Intro to Computer Programming (Limited Prior Experience)', 'Joseph Versoza', 'TR 11:00-12:15PM']\n['CSCI-UA.0003-\\u200b003', 'Intro to Computer Programming (Limited Prior Experience)', 'CANCELLED', ' -']\n['CSCI-UA.0004-\\u200b001', 'Intro to Web Design & Computer Principles', 'Alvaro Olsen', 'MW 8:00-9:15AM']\n['CSCI-UA.0004-\\u200b002', 'Intro to Web Design & Computer Principles', 'Amos Bloomberg', 'TR 11:00-12:15PM']\n['CSCI-UA.0004-\\u200b003', 'Intro to Web Design & Computer Principles', 'CANCELLED', ' -']\n['CSCI-UA.0004-\\u200b005', 'Intro to Web Design & Computer Principles', 'Lee-Sean Huang', 'MW 3:30-4:45PM']\n['CSCI-UA.0004-\\u200b006', 'Intro to Web Design & Computer Principles', 'Lee-Sean Huang', 'MW 11:00-12:15PM']\n['CSCI-UA.0004-\\u200b007', 'Intro to Web Design & Computer Principles', 'Adam Scher', 'TR 8:00-9:15AM']\n['CSCI-UA.0004-\\u200b008', 'Intro to Web Design & Computer Principles', 'CANCELLED', ' -']\n['CSCI-UA.0060-\\u200b001', 'Database Design And Implementation', 'Deena Engel', 'TR 2:00-3:15PM']\n['CSCI-UA.0061-\\u200b001', 'Web Development And Programming', 'Craig Kapp', 'MW 12:30-1:45PM']\n['CSCI-UA.0061-\\u200b002', 'Web Development And Programming', 'Nathan Hull', 'TR 2:00-3:15PM']\n['CSCI-UA.0101-\\u200b001', 'Intro To Computer Science', 'Suzanne McIntosh', 'TR 11:00-12:15PM']\n['CSCI-UA.0101-\\u200b002', 'Intro To Computer Science', 'Teseo Schneider', 'TR 2:00-3:15PM']\n['CSCI-UA.0101-\\u200b003', 'Intro To Computer Science', 'Badreddine Oudjehane', 'TR 9:30-10:45AM']\n['CSCI-UA.0101-\\u200b004', 'Intro To Computer Science', 'Hilbert Gene Locklear', 'MW 3:30-4:45PM']\n['CSCI-UA.0101-\\u200b005', 'Intro To Computer Science', 'Candido Cabo', 'MW 12:30-1:45PM']\n['CSCI-UA.0101-\\u200b006', 'Intro To Computer Science', 'Amos Bloomberg', 'MW 2:00-3:15PM']\n['CSCI-UA.0101-\\u200b007', 'Intro To Computer Science', 'CANCELLED', ' -']\n['CSCI-UA.0101-\\u200b008', 'Intro To Computer Science', 'Nader Nassar', 'MW 8:00-9:15AM']\n['CSCI-UA.0102-\\u200b001', 'Data Structures', 'Evan Korth', 'MW 12:30-1:45PM']\n['CSCI-UA.0102-\\u200b002', 'Data Structures - Recitation', 'Katherine Pully', 'T 12:30-1:45PM']\n['CSCI-UA.0102-\\u200b003', 'Data Structures', 'Young Kun Ko', 'MW 9:30-10:45AM']\n['CSCI-UA.0102-\\u200b004', 'Data Structures - Recitation', 'Vishal Singh', 'R 8:00-9:15AM']\n['CSCI-UA.0102-\\u200b005', 'Data Structures', 'Anasse Bari', 'TR 9:30-10:45AM']\n['CSCI-UA.0102-\\u200b006', 'Data Structures - Recitation', 'Alankrith Krishnan', 'W 3:30-4:45PM']\n['CSCI-UA.0102-\\u200b007', 'Data Structures', 'Anasse Bari', 'TR 2:00-3:15PM']\n['CSCI-UA.0102-\\u200b008', 'Data Structures - Recitation', 'Abhinav Gupta', 'W 8:00-9:15AM']\n['CSCI-UA.0201-\\u200b001', 'Computer Systems Organization', 'Douglas Moody', 'MW 9:30-10:45AM']\n['CSCI-UA.0201-\\u200b002', 'Computer Systems Organization - Recitation', 'Goktug Saatcioglu', 'T 9:30-10:45AM']\n['CSCI-UA.0201-\\u200b003', 'Computer Systems Organization', 'Joanna Klukowska', 'TR 9:30-10:45AM']\n['CSCI-UA.0201-\\u200b004', 'Computer Systems Organization - Recitation', 'Justin Mae', 'M 11:00-12:15PM']\n['CSCI-UA.0201-\\u200b005', 'Computer Systems Organization', 'Jean-Claude Franchitti', 'MW 3:30-4:45PM']\n['CSCI-UA.0201-\\u200b006', 'Computer Systems Organization - Recitation', 'Gurkirat Singh Bajwa', 'T 11:00-12:15PM']\n['CSCI-UA.0201-\\u200b007', 'Computer Systems Organization - Recitation', 'Goktug Saatcioglu', 'M 3:30-4:45PM']\n['CSCI-UA.0201-\\u200b008', 'Computer Systems Organization - Recitation', 'Justin Mae', 'W 3:30-4:45PM']\n['CSCI-UA.0202-\\u200b001', 'Operating Systems', 'Aurojit Panda', 'TR 3:30-4:45PM']\n['CSCI-UA.0202-\\u200b002', 'Operating Systems', 'Yan Shvartzshnaider', 'MW 11:00-12:15PM']\n['CSCI-UA.0202-\\u200b003', 'Operating Systems', 'Michael Walfish', 'TR 3:30-4:45PM']\n['CSCI-UA.0310-\\u200b001', 'Basic Algorithms', 'Joel Spencer', 'TR 2:00-3:15PM']\n['CSCI-UA.0310-\\u200b002', 'Basic Algorithms - Recitation', 'Samarth Tambad', 'M 8:00-9:15AM']\n['CSCI-UA.0310-\\u200b003', 'Basic Algorithms', 'Seyed Nassajianmojarrad', 'MW 11:00-12:15PM']\n['CSCI-UA.0310-\\u200b004', 'Basic Algorithms - Recitation', 'Saisaketh Ramireddy', 'R 9:30-10:45AM']\n['CSCI-UA.0310-\\u200b005', 'Basic Algorithms', 'Victor  Shoup', 'TR 12:30-1:45PM']\n['CSCI-UA.0310-\\u200b006', 'Basic Algorithms - Recitation', 'Alex Bienstock', 'W 12:30-1:45PM']\n['CSCI-UA.0330-\\u200b001', 'Introduction to Computer Simulation', 'Charles  Peskin', 'TR 11:00-12:15PM']\n['CSCI-UA.0330-\\u200b002', 'Introduction to Computer Simulation', 'Guanhua Sun', 'F 11:00-12:15PM']\n['CSCI-UA.0380-\\u200b001', 'Topics of General Interest: Drawing on the Web', 'Joshua Clayton', 'TR 2:00-3:15PM']\n['CSCI-UA.0421-\\u200b001', 'Numerical Computing', 'Margaret Wright', 'TR 9:30-10:45AM']\n['CSCI-UA.0453-\\u200b001', 'Theory Of Computation', 'Richard  Cole', 'TR 11:00-12:15PM']\n['CSCI-UA.0473-\\u200b001', 'Intro To Machine Learning', 'Kyunghyun Cho', 'MW 11:00-12:15PM']\n['CSCI-UA.0476-\\u200b001', 'Processing Big Data for Analytics Applications', 'Suzanne McIntosh', 'MW 4:55-6:10PM']\n['', 'Data Management and Analysis', 'Joseph Versoza', 'TR 9:30-10:45AM']\n['CSCI-UA.0480-\\u200b001', 'Special Topics: Computer Vision', 'Davi Geiger', 'TR 3:30-4:45PM']\n['CSCI-UA.0480-\\u200b002', 'Special Topics: iOS Programming', 'Nathan Hull', 'MW 3:30-4:45PM']\n['CSCI-UA.0480-\\u200b003', 'Special Topics: Parallel Computing', 'Mohamed Zahran', 'MW 2:00-3:15PM']\n['CSCI-UA.0480-\\u200b004', 'Special Topics: Algorithmic Problem Solving', 'Joanna Klukowska', 'TR 12:30-1:45PM']\n['CSCI-UA.0480-\\u200b005', 'Special Topics: Algorithmic Problem Solving - Recitation', 'Kunal Khatri', 'W 8:00-9:15AM']\n['CSCI-UA.0480-\\u200b006', 'Special Topics: Computer Graphics', 'Kenneth Perlin', 'TR 11:00-12:15PM']\n['CSCI-UA.0480-\\u200b007', 'Special Topics: Agile Software Development and DevOps', 'Amos Bloomberg', 'TR 12:30-1:45PM']\n['CSCI-UA.0480-\\u200b008', 'Special Topics: Applied Internet Technology', 'Joseph Versoza', 'MW 11:00-12:15PM']\n['CSCI-UA.0480-\\u200b009', 'Special Topics: Natural Language Processing', 'Adam Meyers', 'MW 12:30-1:45PM']\n['CSCI-UA.0480-\\u200b010', 'Special Topics:                                                                                         Open Source Software Development', 'Joanna Klukowska', 'MW 3:30-4:45PM']\n['CSCI-UA.0480-\\u200b011', 'Special Topics: Introduction to Computer Security', 'Joseph Bonneau', 'MW 12:30-1:45PM']\n['CSCI-UA.0480-\\u200b012', 'Special Topics: Advanced Computer Systems', 'CANCELLED', ' -']\n['CSCI-UA.0480-\\u200b013', 'Special Topics: TBA', 'CANCELLED', ' -']\n['CSCI-UA.0480-\\u200b014', 'Special Topics: iOS Programming', 'Nathan Hull', 'MW 12:30-1:45PM']\n['CSCI-UA.0490-\\u200b001', 'Special Topics: Programming Languages', 'Edward Yang', 'TR 11:00-12:15PM']\n"
    }
   ],
   "source": [
    "\n",
    "data = []\n",
    "\n",
    "for class_ in class_list:\n",
    "    row = []\n",
    "    row.append(class_.find_all('span', recursive='False')[0].findChild().text)                                              # Number-Section\n",
    "    row.append(class_.find_all('span', recursive='False')[1].findChild().text.replace('\\n', ' ').strip())                   # Name\n",
    "    row.append(class_.find_all('span', recursive='False')[2].text.replace('Office Hours', ' ').replace('\\n', ' ').strip())  # Instructor\n",
    "    row.append(class_.find_all('span', recursive='False')[3].text)                                                          # Time\n",
    "    print(row)\n",
    "    data.append(row)\n",
    "\n",
    "# print(data)"
   ]
  },
  {
   "cell_type": "code",
   "execution_count": 3,
   "metadata": {},
   "outputs": [
    {
     "name": "stdout",
     "output_type": "stream",
     "text": "Number-Section                                               Name  \\\n0    CSCI-GA.1144-​001                                            PAC II*   \n1    CSCI-GA.1144-​002                                  PAC II Recitation   \n2    CSCI-GA.1170-​001                             Fundamental Algorithms   \n3    CSCI-GA.1170-​002                  Fundamental Algorithms Recitation   \n4    CSCI-GA.1170-​003                             Fundamental Algorithms   \n..                 ...                                                ...   \n137  CSCI-UA.0480-​011  Special Topics: Introduction to Computer Security   \n138  CSCI-UA.0480-​012          Special Topics: Advanced Computer Systems   \n139  CSCI-UA.0480-​013                                Special Topics: TBA   \n140  CSCI-UA.0480-​014                    Special Topics: iOS Programming   \n141  CSCI-UA.0490-​001              Special Topics: Programming Languages   \n\n            Instructor              Time  \n0       Mohamed Zahran     T 6:00-8:30PM  \n1    Rutviben Malaviya     R 7:10-8:00PM  \n2             Chee Yap     M 5:10-7:00PM  \n3     Abhinav Tamaskar     W 5:10-6:00PM  \n4       Yevgeniy Dodis     T 7:10-9:00PM  \n..                 ...               ...  \n137     Joseph Bonneau   MW 12:30-1:45PM  \n138          CANCELLED                 -  \n139          CANCELLED                 -  \n140        Nathan Hull   MW 12:30-1:45PM  \n141        Edward Yang  TR 11:00-12:15PM  \n\n[142 rows x 4 columns]\n<class 'pandas.core.frame.DataFrame'>\nRangeIndex: 142 entries, 0 to 141\nData columns (total 4 columns):\nNumber-Section    142 non-null object\nName              142 non-null object\nInstructor        142 non-null object\nTime              142 non-null object\ndtypes: object(4)\nmemory usage: 4.6+ KB\n"
    }
   ],
   "source": [
    "df1 = pd.DataFrame(data, columns=['Number-Section', 'Name', 'Instructor', 'Time'])\n",
    "\n",
    "print(df1)\n",
    "df1.info()"
   ]
  },
  {
   "cell_type": "code",
   "execution_count": 4,
   "metadata": {},
   "outputs": [
    {
     "name": "stdout",
     "output_type": "stream",
     "text": "Number-Section                                               Name  \\\n0    CSCI-GA.1144-​001                                            PAC II*   \n1    CSCI-GA.1144-​002                                  PAC II Recitation   \n2    CSCI-GA.1170-​001                             Fundamental Algorithms   \n3    CSCI-GA.1170-​002                  Fundamental Algorithms Recitation   \n4    CSCI-GA.1170-​003                             Fundamental Algorithms   \n..                 ...                                                ...   \n137  CSCI-UA.0480-​011  Special Topics: Introduction to Computer Security   \n138  CSCI-UA.0480-​012          Special Topics: Advanced Computer Systems   \n139  CSCI-UA.0480-​013                                Special Topics: TBA   \n140  CSCI-UA.0480-​014                    Special Topics: iOS Programming   \n141  CSCI-UA.0490-​001              Special Topics: Programming Languages   \n\n            Instructor              Time        Number Section  \n0       Mohamed Zahran     T 6:00-8:30PM  CSCI-GA.1144     001  \n1    Rutviben Malaviya     R 7:10-8:00PM  CSCI-GA.1144     002  \n2             Chee Yap     M 5:10-7:00PM  CSCI-GA.1170     001  \n3     Abhinav Tamaskar     W 5:10-6:00PM  CSCI-GA.1170     002  \n4       Yevgeniy Dodis     T 7:10-9:00PM  CSCI-GA.1170     003  \n..                 ...               ...           ...     ...  \n137     Joseph Bonneau   MW 12:30-1:45PM  CSCI-UA.0480     011  \n138          CANCELLED                 -  CSCI-UA.0480     012  \n139          CANCELLED                 -  CSCI-UA.0480     013  \n140        Nathan Hull   MW 12:30-1:45PM  CSCI-UA.0480     014  \n141        Edward Yang  TR 11:00-12:15PM  CSCI-UA.0490     001  \n\n[142 rows x 6 columns]\n"
    }
   ],
   "source": [
    "df1['Number'] = df1['Number-Section'].str.extract('(^CSCI-.A\\.....)')\n",
    "\n",
    "df1['Section'] = df1['Number-Section'].str.extract('(0..$)')\n",
    "print(df1)\n",
    "# df1['Number-Section'].str.extract('^(CSCI-.A\\.....)(0..)$', expand=True)\n"
   ]
  },
  {
   "cell_type": "code",
   "execution_count": 7,
   "metadata": {},
   "outputs": [
    {
     "name": "stdout",
     "output_type": "stream",
     "text": "<class 'pandas.core.frame.DataFrame'>\nRangeIndex: 142 entries, 0 to 141\nData columns (total 6 columns):\nNumber-Section    142 non-null object\nName              142 non-null object\nInstructor        142 non-null object\nTime              142 non-null object\nNumber            138 non-null object\nSection           140 non-null object\ndtypes: object(6)\nmemory usage: 6.8+ KB\nNone\n      Number-Section                               Name         Instructor  \\\n0  CSCI-GA.1144-​001                            PAC II*     Mohamed Zahran   \n1  CSCI-GA.1144-​002                  PAC II Recitation  Rutviben Malaviya   \n2  CSCI-GA.1170-​001             Fundamental Algorithms           Chee Yap   \n3  CSCI-GA.1170-​002  Fundamental Algorithms Recitation   Abhinav Tamaskar   \n4  CSCI-GA.1170-​003             Fundamental Algorithms     Yevgeniy Dodis   \n\n            Time        Number Section  \n0  T 6:00-8:30PM  CSCI-GA.1144     001  \n1  R 7:10-8:00PM  CSCI-GA.1144     002  \n2  M 5:10-7:00PM  CSCI-GA.1170     001  \n3  W 5:10-6:00PM  CSCI-GA.1170     002  \n4  T 7:10-9:00PM  CSCI-GA.1170     003  \n        Number-Section                                               Name  \\\n137  CSCI-UA.0480-​011  Special Topics: Introduction to Computer Security   \n138  CSCI-UA.0480-​012          Special Topics: Advanced Computer Systems   \n139  CSCI-UA.0480-​013                                Special Topics: TBA   \n140  CSCI-UA.0480-​014                    Special Topics: iOS Programming   \n141  CSCI-UA.0490-​001              Special Topics: Programming Languages   \n\n         Instructor              Time        Number Section  \n137  Joseph Bonneau   MW 12:30-1:45PM  CSCI-UA.0480     011  \n138       CANCELLED                 -  CSCI-UA.0480     012  \n139       CANCELLED                 -  CSCI-UA.0480     013  \n140     Nathan Hull   MW 12:30-1:45PM  CSCI-UA.0480     014  \n141     Edward Yang  TR 11:00-12:15PM  CSCI-UA.0490     001  \n        Number-Section                                               Name  \\\n95   CSCI-UA.0102-​002                       Data Structures - Recitation   \n54   CSCI-GA.3850-​007  PhD Seminar: Applications of Contextual Integr...   \n48   CSCI-GA.3813-​006                                     Adv Lab PhD **   \n112  CSCI-UA.0202-​003                                  Operating Systems   \n43   CSCI-GA.3813-​001                                       Adv Lab MS *   \n\n              Instructor            Time        Number Section  \n95       Katherine Pully  T 12:30-1:45PM  CSCI-UA.0102     002  \n54   Yan Shvartzshnaider   W 3:30-4:45PM  CSCI-GA.3850     007  \n48                 STAFF               -  CSCI-GA.3813     006  \n112      Michael Walfish  TR 3:30-4:45PM  CSCI-UA.0202     003  \n43                 STAFF               -  CSCI-GA.3813     001  \n"
    }
   ],
   "source": [
    "print(df1.info())\n",
    "print(df1.head(5))\n",
    "print(df1.tail(5))\n",
    "print(df1.sample(5))"
   ]
  },
  {
   "cell_type": "markdown",
   "metadata": {},
   "source": [
    "## 2) Read the 2020 course catalog into a DataFrame"
   ]
  },
  {
   "cell_type": "code",
   "execution_count": 23,
   "metadata": {},
   "outputs": [
    {
     "name": "stdout",
     "output_type": "stream",
     "text": "\n                            4 Points.\n                            Graduate-level.\n                            Fall.\n                            \n                            \n                          \n"
    }
   ],
   "source": [
    "f = open('CS_course_cat.html')\n",
    "contents = f.read()\n",
    "\n",
    "f.close()\n",
    "\n",
    "soup = BeautifulSoup(contents, 'lxml')\n",
    "\n",
    "dom = BeautifulSoup(contents, 'html.parser')\n",
    "\n",
    "\n",
    "# print(dom.find('ul', {'class':'schedule-listing'}))\n",
    "\n",
    "class_list = dom.find('ul', {'class':'courses-listing'})\n",
    "# print(class_list.findChild().text)\n",
    "class_list = class_list.find_all('li', {'class':'col-sm-12'}, recursive='False')\n",
    "\n",
    "print(class_list[0].find_all('p', recursive='False')[1].text)\n",
    "# print(class_list[1])"
   ]
  },
  {
   "cell_type": "code",
   "execution_count": 29,
   "metadata": {},
   "outputs": [
    {
     "name": "stdout",
     "output_type": "stream",
     "text": "['CSCI-GA.1133', 'None', '4']\n['CSCI-GA.1144', 'CSCI-GA 1133 or departmental permission.', '4']\n['CSCI-GA.1170', 'At least one year of experience with a high-level language such as Pascal, C, C++, or Java; and familiarity with recursive programming methods and with data structures (arrays, pointers, stacks, queues, linked lists, binary trees).', '3']\n['CSCI-GA.1180', 'None', '3']\n['CSCI-GA.2110', 'Students taking this class should already have substantial programming experience.', '3']\n['CSCI-GA.2112', 'Multivariate calculus and linear algebra. Some programming experience recommended.', '3']\n['CSCI-GA.2130', 'CSCI-GA 1170, CSCI-GA 2110, and CSCI-GA 2250.', '3']\n['CSCI-GA.2180', 'It is assumed that the students can code in C++. No prior experience in the financial sector domain is required.', '3']\n['CSCI-GA.2246', 'An understanding of modern operating systems and a working knowledge of a programming language, such as C, C++ or Java', '3']\n['CSCI-GA.2250', 'None', '3']\n['CSCI-GA.2262', 'Students must have a working knowledge of fundamental data structures and associated algorithms. For some of the practical aspects of the course, a working knowledge of an object-oriented programming language (e.g., C++, C#, or preferably Java) is expected. An undergraduate course in data communication and networks is helpful but not required.', '3']\n['CSCI-GA.2270', 'CSCI-GA 1170 and CSCI-UA 140 (or an equivalent undergraduate course in linear algebra).', '3']\n['CSCI-GA.2271', 'CSCI-GA 1170', '3']\n['CSCI-GA.2274', 'CSCI-GA 1170, CSCI-GA 2110, CSCI-GA 2250 and CSCI-GA 2270', '3']\n['CSCI-GA.2340', 'May not be taken by students who have received a grade of B or better in CSCI-GA 1170.', '3']\n['CSCI-GA.2390', 'Strong mathematical background and instructor permission for master’s students', '3']\n['CSCI-GA.2420', 'Corequisite: linear algebra.', '3']\n['CSCI-GA.2421', 'Corequisite: linear algebra.', '3']\n['CSCI-GA.2433', 'None', '3']\n['CSCI-GA.2434', 'CSCI-GA 1170, CSCI-GA 2110, and CSCI-GA 2250.', '3']\n['CSCI-GA.2440', 'CSCI-GA 1170, CSCI-GA 2110, and CSCI-GA 2250', '3']\n['CSCI-GA.2520', 'None', '4']\n['CSCI-GA.2560', 'None', '3']\n['CSCI-GA.2565', 'Undergraduate course in linear algebra and strong programming skills for implementation of algorithms studied in class. Strong knowledge of probability. Recommended: knowledge of vector calculus, elementary statistics.', '3']\n['CSCI-GA.2566', 'CSCI-GA 1180.', '3']\n['CSCI-GA.2567', 'DS-GA-1001: Intro to Data Science or its equivalent, DS-GA-1002: Statistical and Mathematical Methods or its equivalent. Solid mathematical background, equivalent to a 1-semester undergraduate course in each of the following: linear algebra, multivariate calculus (primarily differential calculus), probability theory, and statistics. (The coverage in DS-GA 1002 is sufficient.) Python programming required for most homework assignments. Recommended: Computer science background up to a \"data structures and algorithms\" course. Recommended: At least one advanced, proof-based mathematics course', '3']\n['CSCI-GA.2569', 'DS-GA 1004', '3']\n['CSCI-GA.2572', 'DS-GA 1001 Intro to Data Science or a graduate-level machine learning course.', '3']\n['CSCI-GA.2580', 'Recommend CSCI-GA 1180.', '3']\n['CSCI-GA.2585', 'Familiarity with basics in linear algebra, probability and analysis of algorithms. No specific knowledge about signal processing or other engineering material is required.', '3']\n['CSCI-GA.2590', 'Some facility with Java and Python and a knowledge of the elements of probability and statistics is expected.', '3']\n['CSCI-GA.2591', 'Students should have solid programming skills in Java and should have successfully completed a graduate level course in natural language processing.', '3']\n['CSCI-GA.2620', 'CSCI-GA 1170, CSCI-GA 2110, and CSCI-GA 2250.', '3']\n['CSCI-GA.2621', '1. Undergraduate Operating Systems or Computer Systems Organization; 2. programming experience; 3. mathematical maturity or the willingness to work through simple proofs.', '3']\n['CSCI-GA.2630', 'None', '3']\n['CSCI-GA.2631', 'CSCI-GA 1170 and CSCI-GA 2250', '3']\n['CSCI-GA.2810', 'TBA', '3']\n['CSCI-GA.2820', 'None', '3']\n['CSCI-GA.2830', 'None', '3']\n['CSCI-GA.2840', 'None', '3']\n['CSCI-GA.2930', 'Topics determine prerequisites.', '3']\n['CSCI-GA.2945', 'Topics determine prerequisites.', '3']\n['CSCI-GA.2946', 'Prerequisites vary according to topic.', '3']\n['CSCI-GA.2965', 'CSCI-GA 1170 and an ability to prototype algorithms rapidly.', '3']\n['CSCI-GA.3033', 'Prerequisites vary according to topic.', '3']\n['CSCI-GA.3110', 'Permission of the instructor for master’s students', '4']\n['CSCI-GA.3130', 'Permission of the instructor for master’s students', '4']\n['CSCI-GA.3140', 'Some facility with logic, sets, linear algebra, graphs, formal languages, mathematical proofs, and programming languages is expected.', '4']\n['CSCI-GA.3205', 'None', '3']\n['CSCI-GA.3210', 'Strong mathematical background', '3']\n['CSCI-GA.3220', 'CSCI-GA 3210.', '3']\n['CSCI-GA.3230', 'None', '3']\n['CSCI-GA.3250', 'Permission of the instructor for master’s students', '4']\n['CSCI-GA.3520', 'Permission of the instructor for master’s students.', '4']\n['CSCI-GA.3812', 'For MS in IS students: Successful completion of CSCI-GA 1170 Fundamental Algorithms and two of the following three courses: CSCI-GA 2262 Data Communications & Networks; CSCI-GA 2250 Operating Systems; CSCI-GA 2433 Database Systems. For MS in CS students: Successful completion of CSCI-GA 1170 Fundamental Algorithms, CSCI-GA 2110 Programming Languages, and CSCI-GA 2250 Operating Systems. PERMISSION OF THE DEPARTMENT REQUIRED.', '3']\n['CSCI-GA.3813', 'Permission of the faculty project supervisor and the Director of Graduate Studies.', '1']\n['CSCI-GA.3840', 'Approval of a faculty adviser and the Director of Graduate Studies for the M.S. programs.', '3']\n['CSCI-GA.3850', 'Permission of the instructor.', '1']\n['CSCI-GA.3860', 'Permission of the thesis adviser or director of graduate studies for the Ph.D. program.', '1']\n['CSCI-GA.3870', 'Permission of Director of Graduate Studies.', '1']\n['MAINT-GA.4747', 'None', 'P']\n['CORE-UA.0109', 'Department Permission', '4']\n['CSCI-UA.0001', 'No prior computing experience is assumed. Not intended for computer science majors.', '4']\n['CSCI-UA.0002', 'Three years of high school mathematics or equivalent. No prior computing experience is assumed. Students with any programming experience should consult with the department before registering. Students who have taken or are taking Introduction to Computer Science (CSCI-UA 101) will not receive credit for this course. Does not count toward the computer science major; serves as the prerequisite for students with no previous programming experience who want to continue into CSCI-UA 101 and pursue the major.', '4']\n['CSCI-UA.0003', 'This course is intended for students with limited programming experience who have not placed into CSCI-UA.0101.  Students may not receive credit for both CSCI-UA.0002 and CSCI-UA.0003.', '4']\n['CSCI-UA.0004', 'Three years of high school mathematics or equivalent. No prior computing experience is assumed. Students with computing experience should consult with the department before registering.', '4']\n['CSCI-UA.0060', 'Introduction to Computer Programming (CSCI-UA.0002).', '4']\n['CSCI-UA.0061', 'Introduction to Computer Programming (CSCI-UA.0002) and Introduction to Web Design & Computer Principles (CSCI-UA.0004).', '4']\n['CSCI-UA.0101', 'Introduction to Computer Programming (CSCI-UA 2) or departmental permission assessed by placement exam.', '4']\n['CSCI-UA.0102', 'Introduction to Computer Science (CSCI-UA 101).', '4']\n['CSCI-UA.0201', 'Data Structures (CSCI-UA 102).', '4']\n['CSCI-UA.0202', 'Computer Systems Organization (CSCI-UA 201).', '4']\n['CSCI-UA.0310', 'Data Structures (CSCI-UA 102) and Discrete Mathematics (MATH-UA 120).', '4']\n['CSCI-UA.0330', 'A grade of C or higher in MATH-UA 121 Calculus I or MATH-UA 212 Math for Economics II (for Economics majors) and PHYS-UA 11 General Physics.', '4']\n['CSCI-UA.0380', 'Topics determine prerequisites.', '4']\n['CSCI-UA.0421', 'Computer Systems Organization (CSCI-UA 201), either Calculus I (MATH-UA 121) or both of Mathematics for Economics I and II (MATH-UA 211 and 212), and Linear Algebra (MATH-UA 140), or permission of instructor.', '4']\n['CSCI-UA.0436', 'Computer Systems Organization (CSCI-UA 201) and Discrete Mathematics (MATH-UA 120).', '4']\n['CSCI-UA.0453', 'Basic Algorithms (CSCI-UA 310) and Computer Systems Organization (CSCI-UA.201)', '4']\n['CSCI-UA.0465', 'Operating Systems (CSCI-UA 202), Calculus I (MATH-UA 121) and Linear Algebra (MATH-UA 140).', '4']\n['CSCI-UA.0468', 'Computer Systems Organization (CSCI-UA 201).', '4']\n['CSCI-UA.0470', 'Computer Systems Organization (CSCI-UA 201).', '4']\n['CSCI-UA.0472', 'Computer Systems Organization (CSCI-UA 201) and Basic Algorithms (CSCI-UA 310).', '4']\n['CSCI-UA.0473', 'Data Structures (CSCI-UA.102), Probability and Statistics (MATH-UA.235), and Linear Algebra (MATH-UA.140).', '4']\n['CSCI-UA.0474', 'Computer Systems Organization (CSCI-UA 201)', '4']\n['CSCI-UA.0475', 'Computer Systems Organization (CSCI-UA 201), Basic Algorithms (CSCI-UA 310), and Linear Algebra (MATH-UA 140) or Honors Linear Algebra (MATH-UA 148).', '4']\n['CSCI-UA.0476', '(CSCI-UA 201) Computer Systems Organization and (CSCI-UA 310) Basic Algorithms.  Familiarity with Linux commands and SQL will be helpful but is not required.', '4']\n['CSCI-UA.0478', 'Basic Algorithms (CSCI-UA 310).', '4']\n['CSCI-UA.0479', 'Data Structures (CSCI-UA 102)', '4']\n['CSCI-UA.0480', 'Topics determine prerequisites.', '4']\n['CSCI-UA.0490', 'Topics determine prerequisites.', '4']\n['CSCI-UA.0520', 'Permission of the department.', '4']\n['CSCI-UA.0521', 'Permission of the department.', '4']\n['CSCI-UA.0897', 'Restricted to declared computer science majors. Internship credit does not count toward major requirements, but does apply toward completion of the CAS degree.', '1']\n['CSCI-UA.0898', 'Restricted to declared computer science majors. Internship credit does not count toward major requirements, but does apply toward completion of the CAS degree.', '1']\n['CSCI-UA.0997', 'Permission of the department. Does not satisfy the major elective requirement.', '1']\n['CSCI-UA.0998', 'Permission of the department. Does not satisfy the major elective requirement.', '1']\n['FRSEM-UA.0597', 'Some programming experience in Python, Java, Javascript, R, or C.', '4']\n"
    }
   ],
   "source": [
    "data = []\n",
    "\n",
    "for class_ in class_list:\n",
    "    row = []\n",
    "    row.append(class_.find_all('p', recursive='False')[0].text.replace('\\n', ' ').strip().split(' ')[0])                   # Number\n",
    "    row.append(class_.find_all('p', recursive='False')[2].text.replace('\\n', ' ').strip().replace('Prerequisites: ', ''))  # Prereqs\n",
    "    row.append(class_.find_all('p', recursive='False')[1].text.replace('\\n', ' ').strip()[0])                              # Points\n",
    "    print(row)\n",
    "    data.append(row)\n",
    "\n",
    "# print(data)"
   ]
  },
  {
   "cell_type": "code",
   "execution_count": 31,
   "metadata": {},
   "outputs": [
    {
     "name": "stdout",
     "output_type": "stream",
     "text": "Number                                            Prereqs Points\n0    CSCI-GA.1133                                               None      4\n1    CSCI-GA.1144           CSCI-GA 1133 or departmental permission.      4\n2    CSCI-GA.1170  At least one year of experience with a high-le...      3\n3    CSCI-GA.1180                                               None      3\n4    CSCI-GA.2110  Students taking this class should already have...      3\n..            ...                                                ...    ...\n92   CSCI-UA.0897  Restricted to declared computer science majors...      1\n93   CSCI-UA.0898  Restricted to declared computer science majors...      1\n94   CSCI-UA.0997  Permission of the department. Does not satisfy...      1\n95   CSCI-UA.0998  Permission of the department. Does not satisfy...      1\n96  FRSEM-UA.0597  Some programming experience in Python, Java, J...      4\n\n[97 rows x 3 columns]\n"
    }
   ],
   "source": [
    "df2 = pd.DataFrame(data, columns=['Number', 'Prereqs', 'Points'])\n",
    "\n",
    "print(df2)"
   ]
  },
  {
   "cell_type": "code",
   "execution_count": 32,
   "metadata": {},
   "outputs": [
    {
     "name": "stdout",
     "output_type": "stream",
     "text": "<class 'pandas.core.frame.DataFrame'>\nRangeIndex: 97 entries, 0 to 96\nData columns (total 3 columns):\nNumber     97 non-null object\nPrereqs    97 non-null object\nPoints     97 non-null object\ndtypes: object(3)\nmemory usage: 2.4+ KB\nNone\n         Number                                            Prereqs Points\n0  CSCI-GA.1133                                               None      4\n1  CSCI-GA.1144           CSCI-GA 1133 or departmental permission.      4\n2  CSCI-GA.1170  At least one year of experience with a high-le...      3\n3  CSCI-GA.1180                                               None      3\n4  CSCI-GA.2110  Students taking this class should already have...      3\n           Number                                            Prereqs Points\n92   CSCI-UA.0897  Restricted to declared computer science majors...      1\n93   CSCI-UA.0898  Restricted to declared computer science majors...      1\n94   CSCI-UA.0997  Permission of the department. Does not satisfy...      1\n95   CSCI-UA.0998  Permission of the department. Does not satisfy...      1\n96  FRSEM-UA.0597  Some programming experience in Python, Java, J...      4\n          Number                                            Prereqs Points\n50  CSCI-GA.3220                                      CSCI-GA 3210.      3\n2   CSCI-GA.1170  At least one year of experience with a high-le...      3\n80  CSCI-UA.0470       Computer Systems Organization (CSCI-UA 201).      4\n56  CSCI-GA.3840  Approval of a faculty adviser and the Director...      3\n63  CSCI-UA.0002  Three years of high school mathematics or equi...      4\n"
    }
   ],
   "source": [
    "print(df2.info())\n",
    "print(df2.head(5))\n",
    "print(df2.tail(5))\n",
    "print(df2.sample(5))"
   ]
  },
  {
   "cell_type": "code",
   "execution_count": null,
   "metadata": {},
   "outputs": [],
   "source": []
  }
 ],
 "metadata": {
  "kernelspec": {
   "display_name": "Python 3",
   "language": "python",
   "name": "python3"
  },
  "language_info": {
   "codemirror_mode": {
    "name": "ipython",
    "version": 3
   },
   "file_extension": ".py",
   "mimetype": "text/x-python",
   "name": "python",
   "nbconvert_exporter": "python",
   "pygments_lexer": "ipython3",
   "version": "3.7.4-final"
  }
 },
 "nbformat": 4,
 "nbformat_minor": 4
}